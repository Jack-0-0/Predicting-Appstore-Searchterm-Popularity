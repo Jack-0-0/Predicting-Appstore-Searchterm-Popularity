{
 "cells": [
  {
   "cell_type": "code",
   "execution_count": 1,
   "metadata": {},
   "outputs": [],
   "source": [
    "import pandas as pd\n",
    "import numpy as np\n",
    "from sklearn.externals import joblib"
   ]
  },
  {
   "cell_type": "markdown",
   "metadata": {},
   "source": [
    "This notebook can be used to load the model and use it to make a prediction.\n",
    "\n",
    "The test example is converted into a dataframe and transformed into the same format as the training data. The values are then normalised before being used to make a prediction."
   ]
  },
  {
   "cell_type": "code",
   "execution_count": 2,
   "metadata": {},
   "outputs": [],
   "source": [
    "test = {'keyword': 'victoire',\n",
    "        'Wingardium_score': 6.858565034791365,\n",
    "        'Wingardium_Leviosa': 0.8472978603872037,\n",
    "        'Wingardium_empty': False,\n",
    "        'top1_Wingardium': 6.9440872082295275,\n",
    "        'top2_Wingardium': 6.858565034791365,\n",
    "        'top3_Wingardium': 6.8560107549862686,\n",
    "        'top4_Wingardium': 6.851487224956746,\n",
    "        'top5_Wingardium': 6.850428783790418,\n",
    "        'Alohomora_score': 6.849823456895422,\n",
    "        'Alohomora_Leviosa': 0.9808292530117262,\n",
    "        'Alohomora_empty': False}"
   ]
  },
  {
   "cell_type": "markdown",
   "metadata": {},
   "source": [
    "## Transform test case into same format as training data"
   ]
  },
  {
   "cell_type": "code",
   "execution_count": 3,
   "metadata": {},
   "outputs": [],
   "source": [
    "# convert from dictionary to dataframe\n",
    "test = pd.DataFrame([test])\n",
    "# drop keyword column\n",
    "test = test.drop(columns=['keyword'])\n",
    "# set columns to correct order\n",
    "test = test[['Wingardium_score', 'Wingardium_Leviosa', 'Wingardium_empty',\n",
    "       'top1_Wingardium', 'top2_Wingardium', 'top3_Wingardium',\n",
    "       'top4_Wingardium', 'top5_Wingardium', 'Alohomora_score',\n",
    "       'Alohomora_Leviosa', 'Alohomora_empty']]\n",
    "# replace NaNs with -1\n",
    "test = test.fillna(-1)\n",
    "# set True to 1 and set False to 0\n",
    "test *= 1"
   ]
  },
  {
   "cell_type": "code",
   "execution_count": 4,
   "metadata": {},
   "outputs": [],
   "source": [
    "# load normaliser scaler\n",
    "scaler = joblib.load('model/scaler.pkl')\n",
    "cols_to_standard = ['Wingardium_score',\n",
    "                    'Wingardium_Leviosa',\n",
    "                    'top1_Wingardium',\n",
    "                    'top2_Wingardium',\n",
    "                    'top3_Wingardium',\n",
    "                    'top4_Wingardium',\n",
    "                    'top5_Wingardium',\n",
    "                    'Alohomora_score',\n",
    "                    'Alohomora_Leviosa']"
   ]
  },
  {
   "cell_type": "code",
   "execution_count": 5,
   "metadata": {},
   "outputs": [],
   "source": [
    "# normalise test\n",
    "test[cols_to_standard] = scaler.transform(test[cols_to_standard])"
   ]
  },
  {
   "cell_type": "markdown",
   "metadata": {},
   "source": [
    "## Load Model and Predict"
   ]
  },
  {
   "cell_type": "code",
   "execution_count": 7,
   "metadata": {},
   "outputs": [],
   "source": [
    "# load model\n",
    "model = joblib.load('model/2020-02-12_16:10:06_gboost/model.pkl')"
   ]
  },
  {
   "cell_type": "code",
   "execution_count": 8,
   "metadata": {},
   "outputs": [
    {
     "name": "stdout",
     "output_type": "stream",
     "text": [
      "Volume Prediction: 44\n"
     ]
    }
   ],
   "source": [
    "# make prediction\n",
    "print(\"Volume Prediction: %0.0f\" % model.predict(test)[0])"
   ]
  }
 ],
 "metadata": {
  "kernelspec": {
   "display_name": "Python 3",
   "language": "python",
   "name": "python3"
  },
  "language_info": {
   "codemirror_mode": {
    "name": "ipython",
    "version": 3
   },
   "file_extension": ".py",
   "mimetype": "text/x-python",
   "name": "python",
   "nbconvert_exporter": "python",
   "pygments_lexer": "ipython3",
   "version": "3.6.9"
  }
 },
 "nbformat": 4,
 "nbformat_minor": 2
}
